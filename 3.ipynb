{
 "cells": [
  {
   "cell_type": "code",
   "execution_count": 1,
   "metadata": {
    "collapsed": true
   },
   "outputs": [],
   "source": [
    "import numpy as np"
   ]
  },
  {
   "cell_type": "code",
   "execution_count": 4,
   "metadata": {
    "collapsed": true
   },
   "outputs": [],
   "source": [
    "data=np.zeros([100,100,100],dtype=[('age_of_saving',np.int16),('rate_of_saving',np.int16),('rate_of_return',np.int16)])"
   ]
  },
  {
   "cell_type": "code",
   "execution_count": 3,
   "metadata": {},
   "outputs": [
    {
     "name": "stdout",
     "output_type": "stream",
     "text": [
      "enter the starting age(in years): 23\n",
      "enter the saving percentage: 20\n",
      "enter the return percentage: 20\n"
     ]
    }
   ],
   "source": [
    "age_of_saving=int(input('enter the starting age(in years): '))\n",
    "rate_of_saving=float(input('enter the saving percentage: '))/100\n",
    "rate_of_return=float(input('enter the return percentage: '))/100\n",
    "#amount_per_month=float(input('enter the amount earned: '))"
   ]
  },
  {
   "cell_type": "code",
   "execution_count": 9,
   "metadata": {},
   "outputs": [
    {
     "data": {
      "text/plain": [
       "(100, 100)"
      ]
     },
     "execution_count": 9,
     "metadata": {},
     "output_type": "execute_result"
    }
   ],
   "source": [
    "data['age_of_saving'][0].shape"
   ]
  },
  {
   "cell_type": "code",
   "execution_count": 7,
   "metadata": {},
   "outputs": [
    {
     "data": {
      "text/plain": [
       "array([[(0, 0, 0), (0, 0, 0), (0, 0, 0), ..., (0, 0, 0), (0, 0, 0),\n",
       "        (0, 0, 0)],\n",
       "       [(0, 0, 0), (0, 0, 0), (0, 0, 0), ..., (0, 0, 0), (0, 0, 0),\n",
       "        (0, 0, 0)],\n",
       "       [(0, 0, 0), (0, 0, 0), (0, 0, 0), ..., (0, 0, 0), (0, 0, 0),\n",
       "        (0, 0, 0)],\n",
       "       ..., \n",
       "       [(0, 0, 0), (0, 0, 0), (0, 0, 0), ..., (0, 0, 0), (0, 0, 0),\n",
       "        (0, 0, 0)],\n",
       "       [(0, 0, 0), (0, 0, 0), (0, 0, 0), ..., (0, 0, 0), (0, 0, 0),\n",
       "        (0, 0, 0)],\n",
       "       [(0, 0, 0), (0, 0, 0), (0, 0, 0), ..., (0, 0, 0), (0, 0, 0),\n",
       "        (0, 0, 0)]],\n",
       "      dtype=[('age_of_saving', '<i2'), ('rate_of_saving', '<i2'), ('rate_of_return', '<i2')])"
      ]
     },
     "execution_count": 7,
     "metadata": {},
     "output_type": "execute_result"
    }
   ],
   "source": [
    "data[0]"
   ]
  },
  {
   "cell_type": "code",
   "execution_count": null,
   "metadata": {
    "collapsed": true
   },
   "outputs": [],
   "source": []
  }
 ],
 "metadata": {
  "kernelspec": {
   "display_name": "Python 3",
   "language": "python",
   "name": "python3"
  },
  "language_info": {
   "codemirror_mode": {
    "name": "ipython",
    "version": 3
   },
   "file_extension": ".py",
   "mimetype": "text/x-python",
   "name": "python",
   "nbconvert_exporter": "python",
   "pygments_lexer": "ipython3",
   "version": "3.6.4"
  }
 },
 "nbformat": 4,
 "nbformat_minor": 2
}
